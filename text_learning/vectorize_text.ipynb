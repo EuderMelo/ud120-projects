{
 "cells": [
  {
   "cell_type": "code",
   "execution_count": 1,
   "metadata": {},
   "outputs": [
    {
     "name": "stdout",
     "output_type": "stream",
     "text": [
      "..\\maildir/bailey-s/deleted_items/101.\n"
     ]
    },
    {
     "ename": "FileNotFoundError",
     "evalue": "[Errno 2] No such file or directory: '..\\\\maildir/bailey-s/deleted_items/101.'",
     "output_type": "error",
     "traceback": [
      "\u001b[1;31m---------------------------------------------------------------------------\u001b[0m",
      "\u001b[1;31mFileNotFoundError\u001b[0m                         Traceback (most recent call last)",
      "\u001b[1;32mc:\\Users\\euderasm\\GitHub\\ud120-projects\\text_learning\\vectorize_text.ipynb Cell 1\u001b[0m in \u001b[0;36m<cell line: 41>\u001b[1;34m()\u001b[0m\n\u001b[0;32m     <a href='vscode-notebook-cell:/c%3A/Users/euderasm/GitHub/ud120-projects/text_learning/vectorize_text.ipynb#W0sZmlsZQ%3D%3D?line=46'>47</a>\u001b[0m path \u001b[39m=\u001b[39m os\u001b[39m.\u001b[39mpath\u001b[39m.\u001b[39mjoin(\u001b[39m'\u001b[39m\u001b[39m..\u001b[39m\u001b[39m'\u001b[39m, path[:\u001b[39m-\u001b[39m\u001b[39m1\u001b[39m])\n\u001b[0;32m     <a href='vscode-notebook-cell:/c%3A/Users/euderasm/GitHub/ud120-projects/text_learning/vectorize_text.ipynb#W0sZmlsZQ%3D%3D?line=47'>48</a>\u001b[0m \u001b[39mprint\u001b[39m(path)\n\u001b[1;32m---> <a href='vscode-notebook-cell:/c%3A/Users/euderasm/GitHub/ud120-projects/text_learning/vectorize_text.ipynb#W0sZmlsZQ%3D%3D?line=48'>49</a>\u001b[0m email \u001b[39m=\u001b[39m \u001b[39mopen\u001b[39;49m(path, \u001b[39m\"\u001b[39;49m\u001b[39mr\u001b[39;49m\u001b[39m\"\u001b[39;49m)\n\u001b[0;32m     <a href='vscode-notebook-cell:/c%3A/Users/euderasm/GitHub/ud120-projects/text_learning/vectorize_text.ipynb#W0sZmlsZQ%3D%3D?line=50'>51</a>\u001b[0m \u001b[39m### use parseOutText to extract the text from the opened email\u001b[39;00m\n\u001b[0;32m     <a href='vscode-notebook-cell:/c%3A/Users/euderasm/GitHub/ud120-projects/text_learning/vectorize_text.ipynb#W0sZmlsZQ%3D%3D?line=51'>52</a>\u001b[0m \n\u001b[0;32m     <a href='vscode-notebook-cell:/c%3A/Users/euderasm/GitHub/ud120-projects/text_learning/vectorize_text.ipynb#W0sZmlsZQ%3D%3D?line=52'>53</a>\u001b[0m \n\u001b[1;32m   (...)\u001b[0m\n\u001b[0;32m     <a href='vscode-notebook-cell:/c%3A/Users/euderasm/GitHub/ud120-projects/text_learning/vectorize_text.ipynb#W0sZmlsZQ%3D%3D?line=59'>60</a>\u001b[0m \n\u001b[0;32m     <a href='vscode-notebook-cell:/c%3A/Users/euderasm/GitHub/ud120-projects/text_learning/vectorize_text.ipynb#W0sZmlsZQ%3D%3D?line=60'>61</a>\u001b[0m \u001b[39m### append a 0 to from_data if email is from Sara, and 1 if email is from Chris\u001b[39;00m\n\u001b[0;32m     <a href='vscode-notebook-cell:/c%3A/Users/euderasm/GitHub/ud120-projects/text_learning/vectorize_text.ipynb#W0sZmlsZQ%3D%3D?line=63'>64</a>\u001b[0m email\u001b[39m.\u001b[39mclose()\n",
      "\u001b[1;31mFileNotFoundError\u001b[0m: [Errno 2] No such file or directory: '..\\\\maildir/bailey-s/deleted_items/101.'"
     ]
    }
   ],
   "source": [
    "#!/usr/bin/python3\n",
    "\n",
    "import os\n",
    "import joblib\n",
    "import re\n",
    "import sys\n",
    "import os\n",
    "\n",
    "sys.path.append(os.path.abspath(\"C:/Users/euderasm/GitHub/ud120-projects/tools/\"))\n",
    "from parse_out_email_text import parseOutText\n",
    "\n",
    "\"\"\"\n",
    "    Starter code to process the emails from Sara and Chris to extract\n",
    "    the features and get the documents ready for classification.\n",
    "\n",
    "    The list of all the emails from Sara are in the from_sara list\n",
    "    likewise for emails from Chris (from_chris)\n",
    "\n",
    "    The actual documents are in the Enron email dataset, which\n",
    "    you downloaded/unpacked in Part 0 of the first mini-project. If you have\n",
    "    not obtained the Enron email corpus, run startup.py in the tools folder.\n",
    "\n",
    "    The data is stored in lists and packed away in pickle files at the end.\n",
    "\"\"\"\n",
    "\n",
    "\n",
    "from_sara  = open(\"from_sara.txt\", \"r\")\n",
    "from_chris = open(\"from_chris.txt\", \"r\")\n",
    "\n",
    "from_data = []\n",
    "word_data = []\n",
    "\n",
    "### temp_counter is a way to speed up the development--there are\n",
    "### thousands of emails from Sara and Chris, so running over all of them\n",
    "### can take a long time\n",
    "### temp_counter helps you only look at the first 200 emails in the list so you\n",
    "### can iterate your modifications quicker\n",
    "temp_counter = 0\n",
    "\n",
    "\n",
    "for name, from_person in [(\"sara\", from_sara), (\"chris\", from_chris)]:\n",
    "    for path in from_person:\n",
    "        ### only look at first 200 emails when developing\n",
    "        ### once everything is working, remove this line to run over full dataset\n",
    "        temp_counter += 1\n",
    "        if temp_counter < 200:\n",
    "\t        path = os.path.join('..', path[:-1])\n",
    "\t        print(path)\n",
    "\t        email = open(path, \"r\")\n",
    "\n",
    "\t        ### use parseOutText to extract the text from the opened email\n",
    "\n",
    "\n",
    "\t        ### use str.replace() to remove any instances of the words\n",
    "\t        ### [\"sara\", \"shackleton\", \"chris\", \"germani\"]\n",
    "\n",
    "\n",
    "\t        ### append the text to word_data\n",
    "\n",
    "\n",
    "\t        ### append a 0 to from_data if email is from Sara, and 1 if email is from Chris\n",
    "\n",
    "\n",
    "\t        email.close()\n",
    "\n",
    "print(\"Emails Processed\")\n",
    "from_sara.close()\n",
    "from_chris.close()\n",
    "\n",
    "joblib.dump( word_data, open(\"your_word_data.pkl\", \"wb\") )\n",
    "joblib.dump( from_data, open(\"your_email_authors.pkl\", \"wb\") )\n",
    "\n",
    "\n",
    "### in Part 4, do TfIdf vectorization here\n"
   ]
  }
 ],
 "metadata": {
  "kernelspec": {
   "display_name": "Python 3.10.5 64-bit",
   "language": "python",
   "name": "python3"
  },
  "language_info": {
   "codemirror_mode": {
    "name": "ipython",
    "version": 3
   },
   "file_extension": ".py",
   "mimetype": "text/x-python",
   "name": "python",
   "nbconvert_exporter": "python",
   "pygments_lexer": "ipython3",
   "version": "3.10.5"
  },
  "orig_nbformat": 4,
  "vscode": {
   "interpreter": {
    "hash": "7f3592957d31629a70bdb1abc59de4ff836c2637296757b33e7417e6c7d359ee"
   }
  }
 },
 "nbformat": 4,
 "nbformat_minor": 2
}
