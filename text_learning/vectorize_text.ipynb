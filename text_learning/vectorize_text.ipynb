{
 "cells": [
  {
   "cell_type": "code",
   "execution_count": 33,
   "metadata": {},
   "outputs": [],
   "source": [
    "import os\n",
    "import joblib\n",
    "import re\n",
    "import sys\n",
    "import os\n",
    "import joblib"
   ]
  },
  {
   "cell_type": "code",
   "execution_count": 2,
   "metadata": {},
   "outputs": [
    {
     "data": {
      "text/plain": [
       "'\\n    Starter code to process the emails from Sara and Chris to extract\\n    the features and get the documents ready for classification.\\n\\n    The list of all the emails from Sara are in the from_sara list\\n    likewise for emails from Chris (from_chris)\\n\\n    The actual documents are in the Enron email dataset, which\\n    you downloaded/unpacked in Part 0 of the first mini-project. If you have\\n    not obtained the Enron email corpus, run startup.py in the tools folder.\\n\\n    The data is stored in lists and packed away in pickle files at the end.\\n'"
      ]
     },
     "execution_count": 2,
     "metadata": {},
     "output_type": "execute_result"
    }
   ],
   "source": [
    "sys.path.append(os.path.abspath(\"C:/Users/euderasm/GitHub/ud120-projects/tools/\"))\n",
    "from parse_out_email_text import parseOutText\n",
    "\n",
    "\"\"\"\n",
    "    Starter code to process the emails from Sara and Chris to extract\n",
    "    the features and get the documents ready for classification.\n",
    "\n",
    "    The list of all the emails from Sara are in the from_sara list\n",
    "    likewise for emails from Chris (from_chris)\n",
    "\n",
    "    The actual documents are in the Enron email dataset, which\n",
    "    you downloaded/unpacked in Part 0 of the first mini-project. If you have\n",
    "    not obtained the Enron email corpus, run startup.py in the tools folder.\n",
    "\n",
    "    The data is stored in lists and packed away in pickle files at the end.\n",
    "\"\"\""
   ]
  },
  {
   "cell_type": "code",
   "execution_count": 24,
   "metadata": {},
   "outputs": [],
   "source": [
    "from_sara  = open(\"from_sara.txt\", \"r\")\n",
    "from_chris = open(\"from_chris.txt\", \"r\")\n",
    "\n",
    "from_data = []\n",
    "word_data = []"
   ]
  },
  {
   "cell_type": "code",
   "execution_count": null,
   "metadata": {},
   "outputs": [],
   "source": [
    "### temp_counter is a way to speed up the development--there are\n",
    "### thousands of emails from Sara and Chris, so running over all of them\n",
    "### can take a long time\n",
    "### temp_counter helps you only look at the first 200 emails in the list so you\n",
    "### can iterate your modifications quicker\n",
    "temp_counter = 0\n",
    "\n",
    "for name, from_person in [(\"sara\", from_sara), (\"chris\", from_chris)]:\n",
    "\tfor path in from_person:\n",
    "\t\t### only look at first 200 emails when developing\n",
    "\t\t### once everything is working, remove this line to run over full dataset\n",
    "\t\ttemp_counter += 1\n",
    "\t\tif temp_counter < 200:\n",
    "\t\t\tpath = os.path.join('..', path[:-1])\n",
    "\t\t\tprint(path)\n",
    "\t\t\temail = open(path, \"r\")\n",
    "\t\t\t### use parseOutText to extract the text from the opened email\n",
    "\t\t\tparseOutText(email)\n",
    "\n",
    "\t\t\t### use str.replace() to remove any instances of the words\n",
    "\t\t\t### [\"sara\", \"shackleton\", \"chris\", \"germani\"]\n",
    "\n",
    "\n",
    "\t\t\t### append the text to word_data\n",
    "\n",
    "\n",
    "\t\t\t### append a 0 to from_data if email is from Sara, and 1 if email is from Chris\n",
    "\n",
    "\n",
    "\t\t\temail.close()\n",
    "\n"
   ]
  },
  {
   "cell_type": "code",
   "execution_count": 48,
   "metadata": {},
   "outputs": [
    {
     "data": {
      "text/plain": [
       "' tjonesnsf stephani and sam need nymex calendar'"
      ]
     },
     "execution_count": 48,
     "metadata": {},
     "output_type": "execute_result"
    }
   ],
   "source": [
    "### The words (features) and authors (labels), already largely processed.\n",
    "### These files should have been created from the previous (Lesson 10)\n",
    "### mini-project.\n",
    "words_file = \"C:Users/euderasm/GitHub/ud120-projects/tools/word_data.pkl\" \n",
    "words_file = \"C:/Users/euderasm/GitHub/ud120-projects/tools/word_data.pkl\"\n",
    "word_data = joblib.load( open(words_file, \"rb\"))\n",
    "word_data[152]"
   ]
  },
  {
   "cell_type": "code",
   "execution_count": 47,
   "metadata": {},
   "outputs": [
    {
     "name": "stdout",
     "output_type": "stream",
     "text": [
      "Emails Processed\n"
     ]
    }
   ],
   "source": [
    "print(\"Emails Processed\")\n",
    "from_sara.close()\n",
    "from_chris.close()\n",
    "\n",
    "joblib.dump( word_data, open(\"your_word_data.pkl\", \"wb\") )\n",
    "joblib.dump( from_data, open(\"your_email_authors.pkl\", \"wb\") )\n"
   ]
  },
  {
   "cell_type": "code",
   "execution_count": 51,
   "metadata": {},
   "outputs": [],
   "source": [
    "### in Part 4, do TfIdf vectorization here\n",
    "from sklearn.feature_extraction.text import TfidfVectorizer\n",
    "vectorizer = TfidfVectorizer(stop_words=\"english\")\n",
    "X = vectorizer.fit_transform(word_data)"
   ]
  },
  {
   "cell_type": "code",
   "execution_count": 54,
   "metadata": {},
   "outputs": [
    {
     "data": {
      "text/plain": [
       "17578"
      ]
     },
     "execution_count": 54,
     "metadata": {},
     "output_type": "execute_result"
    }
   ],
   "source": [
    "len(word_data)"
   ]
  }
 ],
 "metadata": {
  "kernelspec": {
   "display_name": "Python 3.10.5 64-bit",
   "language": "python",
   "name": "python3"
  },
  "language_info": {
   "codemirror_mode": {
    "name": "ipython",
    "version": 3
   },
   "file_extension": ".py",
   "mimetype": "text/x-python",
   "name": "python",
   "nbconvert_exporter": "python",
   "pygments_lexer": "ipython3",
   "version": "3.10.5"
  },
  "orig_nbformat": 4,
  "vscode": {
   "interpreter": {
    "hash": "7f3592957d31629a70bdb1abc59de4ff836c2637296757b33e7417e6c7d359ee"
   }
  }
 },
 "nbformat": 4,
 "nbformat_minor": 2
}
